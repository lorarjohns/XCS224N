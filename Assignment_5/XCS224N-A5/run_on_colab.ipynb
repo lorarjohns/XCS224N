{
 "cells": [
  {
   "cell_type": "code",
   "execution_count": null,
   "metadata": {},
   "outputs": [],
   "source": [
    "%%bash\n",
    "\n",
    "CUDA_VISIBLE_DEVICES=0 python run.py train --train-src=./en_es_data/train.es --train-tgt=./en_es_data/train.en \\\n",
    "        --dev-src=./en_es_data/dev.es --dev-tgt=./en_es_data/dev.en --vocab=vocab.json --cuda --batch-size=64 --beam-size=10 \\\n",
    "        --max-epoch=60 --patience=10 --max-num-trial=30 --lr-decay=0.01 --uniform-init=0 --valid-niter=63"
   ]
  },
  {
   "cell_type": "code",
   "execution_count": null,
   "metadata": {},
   "outputs": [],
   "source": [
    "%%bash\n",
    "\n",
    "touch outputs/test_outputs.txt\n",
    "\n",
    "CUDA_VISIBLE_DEVICES=0 python run.py decode model.bin ./en_es_data/test.es outputs/test_outputs.txt --cuda \\\n",
    "    --beam-size=10 --max-decoding-time-step=70"
   ]
  }
 ],
 "metadata": {
  "language_info": {
   "codemirror_mode": {
    "name": "ipython",
    "version": 3
   },
   "file_extension": ".py",
   "mimetype": "text/x-python",
   "name": "python",
   "nbconvert_exporter": "python",
   "pygments_lexer": "ipython3",
   "version": 3
  },
  "orig_nbformat": 2
 },
 "nbformat": 4,
 "nbformat_minor": 2
}