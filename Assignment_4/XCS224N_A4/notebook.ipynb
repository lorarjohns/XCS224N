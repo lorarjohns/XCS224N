{
 "cells": [
  {
   "cell_type": "code",
   "execution_count": 2,
   "metadata": {},
   "outputs": [],
   "source": [
    "from utils import pad_sents\n",
    "from copy import deepcopy\n",
    "import numpy as np"
   ]
  },
  {
   "cell_type": "code",
   "execution_count": 3,
   "metadata": {},
   "outputs": [],
   "source": [
    "with open(\"en_es_data/train.es\", \"r\") as f:\n",
    "    spanish = [sent.strip(\"\\n\").split() for sent in f.readlines()]"
   ]
  },
  {
   "cell_type": "code",
   "execution_count": 4,
   "metadata": {},
   "outputs": [],
   "source": [
    "toy_data = deepcopy(spanish[:50])"
   ]
  },
  {
   "cell_type": "code",
   "execution_count": 5,
   "metadata": {},
   "outputs": [],
   "source": [
    "toy_data_pad = pad_sents(toy_data, \"<PAD>\")"
   ]
  },
  {
   "cell_type": "code",
   "execution_count": 13,
   "metadata": {},
   "outputs": [
    {
     "output_type": "stream",
     "name": "stdout",
     "text": "8.04 ms ± 243 µs per loop (mean ± std. dev. of 7 runs, 100 loops each)\n32.8 ms ± 786 µs per loop (mean ± std. dev. of 7 runs, 10 loops each)\n17.3 ms ± 284 µs per loop (mean ± std. dev. of 7 runs, 100 loops each)\n"
    }
   ],
   "source": [
    "%timeit maxlen = max(map(len, spanish))\n",
    "%timeit maxlen = sorted(spanish, key=len)[0]\n",
    "%timeit maxlen = np.argmax(np.array(list(map(len, spanish))))"
   ]
  },
  {
   "cell_type": "code",
   "execution_count": 105,
   "metadata": {},
   "outputs": [],
   "source": [
    "#slow but fun\n",
    "def longest_idx_bool(sents, idx_only=True):\n",
    "    maxlen = max(map(len, sents))\n",
    "    len_list = list(map(lambda x: len(x) == maxlen, sents))\n",
    "    if idx_only:\n",
    "        return [i for i, _ in enumerate(len_list) if _ == True]\n",
    "    return np.array(sents)[len_list]"
   ]
  },
  {
   "cell_type": "code",
   "execution_count": 101,
   "metadata": {},
   "outputs": [
    {
     "output_type": "stream",
     "name": "stdout",
     "text": "40.3 ms ± 1.79 ms per loop (mean ± std. dev. of 7 runs, 10 loops each)\n"
    }
   ],
   "source": [
    "%%timeit\n",
    "longest_idx_bool(spanish)"
   ]
  },
  {
   "cell_type": "code",
   "execution_count": 18,
   "metadata": {},
   "outputs": [],
   "source": [
    "def longest_idx(sents, idx_only=True):\n",
    "    maxlen = max(map(len, sents))\n",
    "    if idx_only:\n",
    "        return [i for i, sent in enumerate(sents) if len(sents[i]) == maxlen]\n",
    "    return [sents[i] for i, sent in enumerate(sents) if len(sents[i]) == maxlen]"
   ]
  },
  {
   "cell_type": "code",
   "execution_count": 15,
   "metadata": {},
   "outputs": [],
   "source": [
    "# REALLY slow\n",
    "def longest_idx_slow(sents, idx_only=True):\n",
    "    maxlen = sorted(sents, key=len)[0]\n",
    "    if idx_only:\n",
    "        return [i for i, sent in enumerate(sents) if len(sents[i]) == maxlen]\n",
    "    return [sents[i] for i, sent in enumerate(sents) if len(sents[i]) == maxlen]"
   ]
  },
  {
   "cell_type": "code",
   "execution_count": 11,
   "metadata": {},
   "outputs": [],
   "source": [
    "from more_itertools import locate\n",
    "def longest_idx_locate(sents):\n",
    "    maxlen = max(map(len, sents))\n",
    "    filtered = list(locate(sents, lambda x: len(x) == maxlen))\n",
    "    return filtered"
   ]
  },
  {
   "cell_type": "code",
   "execution_count": 19,
   "metadata": {},
   "outputs": [
    {
     "output_type": "stream",
     "name": "stdout",
     "text": "55.5 ms ± 2.41 ms per loop (mean ± std. dev. of 7 runs, 10 loops each)\n28.4 ms ± 1.27 ms per loop (mean ± std. dev. of 7 runs, 10 loops each)\n35.3 ms ± 2.79 ms per loop (mean ± std. dev. of 7 runs, 10 loops each)\n"
    }
   ],
   "source": [
    "%timeit longest_idx_slow(spanish)\n",
    "%timeit longest_idx(spanish)\n",
    "%timeit longest_idx_locate(spanish)"
   ]
  },
  {
   "cell_type": "code",
   "execution_count": 31,
   "metadata": {},
   "outputs": [
    {
     "output_type": "execute_result",
     "data": {
      "text/plain": "24"
     },
     "metadata": {},
     "execution_count": 31
    }
   ],
   "source": [
    "def longest_idx_numpy(sents):\n",
    "    maxlen = max(map(len, sents))\n",
    "    nsents = np.where(lambda x: len(x) == maxlen, sents, None)\n",
    "    return nsents\n",
    "len(longest_idx_numpy(spanish)[0])"
   ]
  },
  {
   "cell_type": "code",
   "execution_count": 41,
   "metadata": {},
   "outputs": [],
   "source": [
    "def pad_sents(sents, pad_token=\"<pad>\"):\n",
    "    longest_sent = max(map(len, sents))\n",
    "    def pad_one(sent):\n",
    "        sent.extend([pad_token]*(longest_sent-len(sent)))\n",
    "        return sent\n",
    "    sents_padded = list(map(pad_one, sents))\n",
    "    return sents_padded"
   ]
  },
  {
   "cell_type": "code",
   "execution_count": 46,
   "metadata": {},
   "outputs": [],
   "source": [
    "def pad_sents_2(sents, pad_token=\"<pad>\"):\n",
    "    longest_sent = max(map(len, sents))\n",
    "    def pad_one(sent):\n",
    "        sent.extend([pad_token]*(longest_sent-len(sent)))\n",
    "        return sent\n",
    "    sents_padded = [sent + [pad_token]*(longest_sent-len(sent)) for sent in sents]\n",
    "    return sents_padded"
   ]
  },
  {
   "cell_type": "code",
   "execution_count": null,
   "metadata": {},
   "outputs": [],
   "source": [
    "def pad_sents_3(sents, pad_token=\"<pad>\"):\n",
    "    longest_sent = max(map(len, sents))\n",
    "    lengths = map(lambda x: longest_sent - x, sents)\n",
    "    "
   ]
  },
  {
   "cell_type": "code",
   "execution_count": 47,
   "metadata": {},
   "outputs": [
    {
     "output_type": "stream",
     "name": "stdout",
     "text": "157 ms ± 2.26 ms per loop (mean ± std. dev. of 7 runs, 10 loops each)\n155 ms ± 1.17 ms per loop (mean ± std. dev. of 7 runs, 10 loops each)\n"
    }
   ],
   "source": [
    "%timeit pad_sents(spanish)\n",
    "%timeit pad_sents_2(spanish)"
   ]
  },
  {
   "cell_type": "code",
   "execution_count": 115,
   "metadata": {},
   "outputs": [],
   "source": [
    "# [(i, o) for i, o in zip(map(lambda x: 59-len(x), toy_data), toy_data)]\n",
    "# def pad_sents_4(sents):\n",
    "#     sent_map = map(len, sents)\n",
    "#     maxlen = max(sent_map)\n",
    "#     return [sent[1]+[\"<pad>\"]*sent[0] for i, sent in enumerate(zip(map(lambda x: maxlen-x, sent_map), sents))]\n",
    "#     \n",
    "# 5*\"<pad>\".split()\n",
    "# [sent[1]+sent[0]*\"<pad>\".split() for i, sent in enumerate(zip(map(lambda x: max(map(len, sents))-x, map(len, sents)), sents))]"
   ]
  },
  {
   "cell_type": "code",
   "execution_count": 127,
   "metadata": {},
   "outputs": [],
   "source": [
    "import torch"
   ]
  },
  {
   "cell_type": "code",
   "execution_count": 142,
   "metadata": {},
   "outputs": [
    {
     "output_type": "stream",
     "name": "stdout",
     "text": "torch.Size([15, 8])\ntensor([[0., 0., 0., 0., 0., 0., 0., 0.],\n        [0., 0., 0., 0., 0., 0., 0., 0.],\n        [0., 0., 0., 0., 0., 0., 0., 0.],\n        [0., 0., 0., 0., 0., 0., 0., 0.],\n        [0., 0., 0., 0., 0., 0., 0., 0.],\n        [0., 0., 0., 0., 0., 0., 0., 0.],\n        [0., 0., 0., 0., 0., 0., 0., 0.],\n        [0., 0., 0., 0., 0., 0., 0., 0.],\n        [0., 0., 0., 0., 0., 0., 0., 0.],\n        [0., 0., 0., 0., 0., 0., 0., 0.],\n        [0., 0., 0., 0., 0., 0., 0., 0.],\n        [0., 0., 0., 0., 0., 0., 0., 0.],\n        [0., 0., 0., 0., 0., 0., 0., 0.],\n        [0., 0., 0., 0., 0., 0., 0., 0.],\n        [0., 0., 0., 0., 0., 0., 0., 0.]])\n"
    },
    {
     "output_type": "execute_result",
     "data": {
      "text/plain": "(tensor([[0., 0., 0., 0., 0., 0., 0., 0.],\n         [0., 0., 0., 0., 0., 0., 0., 0.],\n         [0., 0., 0., 0., 0., 0., 0., 0.],\n         [0., 0., 0., 0., 0., 0., 0., 0.],\n         [0., 0., 0., 0., 0., 0., 0., 0.]]),\n tensor([[0., 0., 0., 0., 0., 0., 0., 0.],\n         [0., 0., 0., 0., 0., 0., 0., 0.],\n         [0., 0., 0., 0., 0., 0., 0., 0.],\n         [0., 0., 0., 0., 0., 0., 0., 0.],\n         [0., 0., 0., 0., 0., 0., 0., 0.]]),\n tensor([[0., 0., 0., 0., 0., 0., 0., 0.],\n         [0., 0., 0., 0., 0., 0., 0., 0.],\n         [0., 0., 0., 0., 0., 0., 0., 0.],\n         [0., 0., 0., 0., 0., 0., 0., 0.],\n         [0., 0., 0., 0., 0., 0., 0., 0.]]))"
     },
     "metadata": {},
     "execution_count": 142
    }
   ],
   "source": [
    "x = torch.zeros(15, 8)\n",
    "print(x.size())\n",
    "print(x)\n",
    "torch.split(x, 5)"
   ]
  },
  {
   "cell_type": "code",
   "execution_count": 148,
   "metadata": {},
   "outputs": [
    {
     "output_type": "stream",
     "name": "stdout",
     "text": "torch.Size([2, 1, 2, 1, 2])\ntorch.Size([2, 2, 2])\ntorch.Size([2, 1, 2, 1, 2])\ntorch.Size([2, 2, 1, 2])\n"
    }
   ],
   "source": [
    "x = torch.zeros(2,1,2,1,2)\n",
    "print(x.size())\n",
    "y = torch.squeeze(x)\n",
    "print(y.size())\n",
    "z = torch.squeeze(x, 0)\n",
    "print(z.size())\n",
    "a = torch.squeeze(x, 1)\n",
    "print(a.size())"
   ]
  }
 ],
 "metadata": {
  "language_info": {
   "codemirror_mode": {
    "name": "ipython",
    "version": 3
   },
   "file_extension": ".py",
   "mimetype": "text/x-python",
   "name": "python",
   "nbconvert_exporter": "python",
   "pygments_lexer": "ipython3",
   "version": "3.7.4-final"
  },
  "orig_nbformat": 2,
  "kernelspec": {
   "name": "python37464bitxcs224nvenvc3830852de054796a1ac976dcd799bb1",
   "display_name": "Python 3.7.4 64-bit ('xcs224n': venv)"
  }
 },
 "nbformat": 4,
 "nbformat_minor": 2
}